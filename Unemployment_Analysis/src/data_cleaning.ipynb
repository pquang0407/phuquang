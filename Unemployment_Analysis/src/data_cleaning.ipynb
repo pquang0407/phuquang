{
 "cells": [
  {
   "cell_type": "code",
   "execution_count": 1,
   "id": "b3b45f0f",
   "metadata": {},
   "outputs": [],
   "source": [
    "import pandas as pd\n",
    "import os"
   ]
  },
  {
   "cell_type": "code",
   "execution_count": null,
   "id": "db508a07",
   "metadata": {},
   "outputs": [],
   "source": [
    "input_path = '../data/unemployment_data.csv'\n",
    "output_path = '../data/cleaned_data.csv'\n",
    "\n",
    "if not os.path.exists(input_path):\n",
    "    raise FileNotFoundError(f'File {input_path} không tồn tại. Hãy kiểm tra lại đường dẫn.')"
   ]
  },
  {
   "cell_type": "code",
   "execution_count": null,
   "id": "92288730",
   "metadata": {},
   "outputs": [],
   "source": [
    "df = pd.read_csv(input_path, sep=';')\n",
    "\n",
    "df.columns = ['Province_Region', 'Year', 'Unemployment_Rate']"
   ]
  },
  {
   "cell_type": "code",
   "execution_count": null,
   "id": "6f568a0a",
   "metadata": {},
   "outputs": [
    {
     "name": "stderr",
     "output_type": "stream",
     "text": [
      "C:\\Users\\phuqu\\AppData\\Local\\Temp\\ipykernel_13116\\1818885411.py:2: FutureWarning: Series.fillna with 'method' is deprecated and will raise in a future version. Use obj.ffill() or obj.bfill() instead.\n",
      "  df['Province_Region'] = df['Province_Region'].fillna(method='ffill')\n"
     ]
    }
   ],
   "source": [
    "df['Province_Region'] = df['Province_Region'].fillna(method='ffill')"
   ]
  },
  {
   "cell_type": "code",
   "execution_count": null,
   "id": "a1a9a83d",
   "metadata": {},
   "outputs": [],
   "source": [
    "df['Year'] = df['Year'].astype(str).str.replace('Sơ bộ ', '', regex=False).str.strip()"
   ]
  },
  {
   "cell_type": "code",
   "execution_count": null,
   "id": "386bda41",
   "metadata": {},
   "outputs": [],
   "source": [
    "df['Unemployment_Rate'] = (\n",
    "    df['Unemployment_Rate']\n",
    "    .astype(str)\n",
    "    .str.replace(',', '.', regex=False)\n",
    "    .str.replace(' ', '', regex=False)    \n",
    "    .str.extract(r'([0-9.]+)')[0]         \n",
    "    .replace('', None)\n",
    "    .astype(float)\n",
    ")\n",
    "\n",
    "df = df.dropna(subset=['Unemployment_Rate'])"
   ]
  },
  {
   "cell_type": "code",
   "execution_count": null,
   "id": "481ac999",
   "metadata": {},
   "outputs": [
    {
     "name": "stdout",
     "output_type": "stream",
     "text": [
      "5 dòng đầu tiên của dữ liệu đã làm sạch:\n",
      "       Province_Region  Year  Unemployment_Rate\n",
      "1  Đồng bằng sông Hồng  2018               1.97\n",
      "2  Đồng bằng sông Hồng  2019               1.82\n",
      "3  Đồng bằng sông Hồng  2020               2.05\n",
      "4  Đồng bằng sông Hồng  2021               2.18\n",
      "5  Đồng bằng sông Hồng  2022               1.93\n"
     ]
    }
   ],
   "source": [
    "print('5 dòng đầu tiên của dữ liệu đã làm sạch:')\n",
    "print(df.head())"
   ]
  },
  {
   "cell_type": "code",
   "execution_count": null,
   "id": "da7f36a0",
   "metadata": {},
   "outputs": [
    {
     "name": "stdout",
     "output_type": "stream",
     "text": [
      "Đã lưu dữ liệu sạch vào ../data/cleaned_data.csv\n"
     ]
    }
   ],
   "source": [
    "os.makedirs(os.path.dirname(output_path), exist_ok=True)\n",
    "df.to_csv(output_path, sep=',', index=False, encoding='utf-8')\n",
    "print(f'Đã lưu dữ liệu sạch vào {output_path}')"
   ]
  }
 ],
 "metadata": {
  "kernelspec": {
   "display_name": "base",
   "language": "python",
   "name": "python3"
  },
  "language_info": {
   "codemirror_mode": {
    "name": "ipython",
    "version": 3
   },
   "file_extension": ".py",
   "mimetype": "text/x-python",
   "name": "python",
   "nbconvert_exporter": "python",
   "pygments_lexer": "ipython3",
   "version": "3.12.4"
  }
 },
 "nbformat": 4,
 "nbformat_minor": 5
}
